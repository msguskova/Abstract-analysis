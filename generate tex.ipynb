{
 "cells": [
  {
   "cell_type": "code",
   "execution_count": 1,
   "metadata": {
    "collapsed": true
   },
   "outputs": [],
   "source": [
    "import pandas as pd"
   ]
  },
  {
   "cell_type": "code",
   "execution_count": 2,
   "metadata": {},
   "outputs": [
    {
     "data": {
      "text/plain": [
       "['cit libration 1.txt', 'cit libration 2.txt', 'cit libration 3.txt']"
      ]
     },
     "execution_count": 2,
     "metadata": {},
     "output_type": "execute_result"
    }
   ],
   "source": [
    "names = ['cit libration '+str(i)+'.txt' for i in [1,2,3]]\n",
    "names"
   ]
  },
  {
   "cell_type": "code",
   "execution_count": 28,
   "metadata": {
    "collapsed": true
   },
   "outputs": [],
   "source": [
    "with open('all abstracts.tex', 'w') as tex: \n",
    "    for name in names:\n",
    "        df = pd.read_csv(name, sep='\\t', index_col=False)\n",
    "        df = df[['AU', 'TI', 'DE','AB', 'DI', 'PY']]\n",
    "        for i in range(df.shape[0]):\n",
    "            tex.write('\\section{{{0}}}\\n\\n'.format(df.iloc[i]['TI']))\n",
    "            tex.write('Authors: {0}\\n\\n'.format(df.iloc[i]['AU']))\n",
    "            tex.write('Key words: {0}\\n\\n'.format(df.iloc[i]['DE']))\n",
    "            tex.write('Year: {0}\\n\\n'.format(df.iloc[i]['PY']))\n",
    "            tex.write('DOI: {0}\\n\\n'.format(df.iloc[i]['DI']))\n",
    "            tex.write(str(df.iloc[i]['AB']))\n",
    "            tex.write('\\n\\n')"
   ]
  },
  {
   "cell_type": "code",
   "execution_count": 3,
   "metadata": {
    "collapsed": true
   },
   "outputs": [],
   "source": [
    "df = pd.read_csv(names[0], sep='\\t', index_col=False)"
   ]
  },
  {
   "cell_type": "markdown",
   "metadata": {},
   "source": [
    "авторы, название, ключевые слова, абстракт, doi, год публикации"
   ]
  },
  {
   "cell_type": "code",
   "execution_count": 6,
   "metadata": {},
   "outputs": [
    {
     "data": {
      "text/plain": [
       "PT                                                    J\n",
       "AU                                       Lei, HL; Xu, B\n",
       "BA                                                  NaN\n",
       "BE                                                  NaN\n",
       "GP                                                  NaN\n",
       "AF                                  Lei, Hanlun; Xu, Bo\n",
       "BF                                                  NaN\n",
       "CA                                                  NaN\n",
       "TI    Low-energy transfers to cislunar periodic orbi...\n",
       "SO    COMMUNICATIONS IN NONLINEAR SCIENCE AND NUMERI...\n",
       "SE                                                  NaN\n",
       "BS                                                  NaN\n",
       "LA                                              English\n",
       "DT                                              Article\n",
       "CT                                                  NaN\n",
       "CY                                                  NaN\n",
       "CL                                                  NaN\n",
       "SP                                                  NaN\n",
       "HO                                                  NaN\n",
       "DE    Periodic orbits; Invariant manifolds; Low-ener...\n",
       "ID    RESTRICTED 3-BODY PROBLEM; EARTH-MOON SYSTEM; ...\n",
       "AB    This paper investigates the cislunar periodic ...\n",
       "C1    [Lei, Hanlun; Xu, Bo] Nanjing Univ, Sch Astron...\n",
       "RP    Lei, HL (reprint author), Nanjing Univ, Sch As...\n",
       "EM                                     leihl@nju.edu.cn\n",
       "RI                                                  NaN\n",
       "OI                                                  NaN\n",
       "FU    National Natural Science Foundation [11603011]...\n",
       "FX    This work was carried out with financial suppo...\n",
       "CR    Battin R, 1999, AIAA ED SERIES; BELBRUNO EA, 1...\n",
       "                            ...                        \n",
       "PI                                            AMSTERDAM\n",
       "PA           PO BOX 211, 1000 AE AMSTERDAM, NETHERLANDS\n",
       "SN                                            1007-5704\n",
       "EI                                            1878-7274\n",
       "BN                                                  NaN\n",
       "J9                                 COMMUN NONLINEAR SCI\n",
       "JI                 Commun. Nonlinear Sci. Numer. Simul.\n",
       "PD                                                  JAN\n",
       "PY                                                 2018\n",
       "VL                                                   54\n",
       "IS                                                  NaN\n",
       "PN                                                  NaN\n",
       "SU                                                  NaN\n",
       "SI                                                  NaN\n",
       "MA                                                  NaN\n",
       "BP                                                  466\n",
       "EP                                                  481\n",
       "AR                                                  NaN\n",
       "DI                          10.1016/j.cnsns.2017.05.031\n",
       "D2                                                  NaN\n",
       "PG                                                   16\n",
       "WC    Mathematics, Applied; Mathematics, Interdiscip...\n",
       "SC                      Mathematics; Mechanics; Physics\n",
       "GA                                                FA5PO\n",
       "UT                                  WOS:000405496000033\n",
       "PM                                                  NaN\n",
       "OA                                                   No\n",
       "HC                                                  NaN\n",
       "HP                                                  NaN\n",
       "DA                                           2017-12-09\n",
       "Name: 0, Length: 66, dtype: object"
      ]
     },
     "execution_count": 6,
     "metadata": {},
     "output_type": "execute_result"
    }
   ],
   "source": [
    "df.iloc[0]"
   ]
  },
  {
   "cell_type": "code",
   "execution_count": 15,
   "metadata": {
    "collapsed": true
   },
   "outputs": [],
   "source": [
    "df = df[['AU', 'TI', 'DE','AB', 'DI', 'PY']]"
   ]
  },
  {
   "cell_type": "code",
   "execution_count": 16,
   "metadata": {},
   "outputs": [
    {
     "data": {
      "text/html": [
       "<div>\n",
       "<style>\n",
       "    .dataframe thead tr:only-child th {\n",
       "        text-align: right;\n",
       "    }\n",
       "\n",
       "    .dataframe thead th {\n",
       "        text-align: left;\n",
       "    }\n",
       "\n",
       "    .dataframe tbody tr th {\n",
       "        vertical-align: top;\n",
       "    }\n",
       "</style>\n",
       "<table border=\"1\" class=\"dataframe\">\n",
       "  <thead>\n",
       "    <tr style=\"text-align: right;\">\n",
       "      <th></th>\n",
       "      <th>AU</th>\n",
       "      <th>TI</th>\n",
       "      <th>DE</th>\n",
       "      <th>AB</th>\n",
       "      <th>DI</th>\n",
       "      <th>PY</th>\n",
       "    </tr>\n",
       "  </thead>\n",
       "  <tbody>\n",
       "    <tr>\n",
       "      <th>0</th>\n",
       "      <td>Lei, HL; Xu, B</td>\n",
       "      <td>Low-energy transfers to cislunar periodic orbi...</td>\n",
       "      <td>Periodic orbits; Invariant manifolds; Low-ener...</td>\n",
       "      <td>This paper investigates the cislunar periodic ...</td>\n",
       "      <td>10.1016/j.cnsns.2017.05.031</td>\n",
       "      <td>2018</td>\n",
       "    </tr>\n",
       "    <tr>\n",
       "      <th>1</th>\n",
       "      <td>Idrisi, MJ</td>\n",
       "      <td>A Study of Libration Points in Modified CR3BP ...</td>\n",
       "      <td>Restricted three-body problem; Radiation press...</td>\n",
       "      <td>As we know that the Sun is a source of radiati...</td>\n",
       "      <td>10.1007/s40295-017-0115-7</td>\n",
       "      <td>2017</td>\n",
       "    </tr>\n",
       "    <tr>\n",
       "      <th>2</th>\n",
       "      <td>Pan, X; Xu, M; Santos, R</td>\n",
       "      <td>Trajectory optimization for solar sail in cisl...</td>\n",
       "      <td>Cislunar navigation; Trajectory optimization; ...</td>\n",
       "      <td>In view of the limitations of the existing lib...</td>\n",
       "      <td>10.1016/j.ast.2017.08.042</td>\n",
       "      <td>2017</td>\n",
       "    </tr>\n",
       "    <tr>\n",
       "      <th>3</th>\n",
       "      <td>Suraj, MS; Asique, MC; Prasad, U; Hassan, MR; ...</td>\n",
       "      <td>Fractal basins of attraction in the restricted...</td>\n",
       "      <td>Restricted four-body problem; Triaxial rigid b...</td>\n",
       "      <td>The planar equilateral restricted four-body pr...</td>\n",
       "      <td>10.1007/s10509-017-3188-7</td>\n",
       "      <td>2017</td>\n",
       "    </tr>\n",
       "    <tr>\n",
       "      <th>4</th>\n",
       "      <td>Zeng, H; Zhang, JR; Qi, R; Li, MT</td>\n",
       "      <td>Study of Time-Free Transfers into Libration Po...</td>\n",
       "      <td>NaN</td>\n",
       "      <td>Preliminary designs of time-free transfers con...</td>\n",
       "      <td>10.2514/1.G001995</td>\n",
       "      <td>2017</td>\n",
       "    </tr>\n",
       "  </tbody>\n",
       "</table>\n",
       "</div>"
      ],
      "text/plain": [
       "                                                  AU  \\\n",
       "0                                     Lei, HL; Xu, B   \n",
       "1                                         Idrisi, MJ   \n",
       "2                           Pan, X; Xu, M; Santos, R   \n",
       "3  Suraj, MS; Asique, MC; Prasad, U; Hassan, MR; ...   \n",
       "4                  Zeng, H; Zhang, JR; Qi, R; Li, MT   \n",
       "\n",
       "                                                  TI  \\\n",
       "0  Low-energy transfers to cislunar periodic orbi...   \n",
       "1  A Study of Libration Points in Modified CR3BP ...   \n",
       "2  Trajectory optimization for solar sail in cisl...   \n",
       "3  Fractal basins of attraction in the restricted...   \n",
       "4  Study of Time-Free Transfers into Libration Po...   \n",
       "\n",
       "                                                  DE  \\\n",
       "0  Periodic orbits; Invariant manifolds; Low-ener...   \n",
       "1  Restricted three-body problem; Radiation press...   \n",
       "2  Cislunar navigation; Trajectory optimization; ...   \n",
       "3  Restricted four-body problem; Triaxial rigid b...   \n",
       "4                                                NaN   \n",
       "\n",
       "                                                  AB  \\\n",
       "0  This paper investigates the cislunar periodic ...   \n",
       "1  As we know that the Sun is a source of radiati...   \n",
       "2  In view of the limitations of the existing lib...   \n",
       "3  The planar equilateral restricted four-body pr...   \n",
       "4  Preliminary designs of time-free transfers con...   \n",
       "\n",
       "                            DI    PY  \n",
       "0  10.1016/j.cnsns.2017.05.031  2018  \n",
       "1    10.1007/s40295-017-0115-7  2017  \n",
       "2    10.1016/j.ast.2017.08.042  2017  \n",
       "3    10.1007/s10509-017-3188-7  2017  \n",
       "4            10.2514/1.G001995  2017  "
      ]
     },
     "execution_count": 16,
     "metadata": {},
     "output_type": "execute_result"
    }
   ],
   "source": [
    "df.head(5)"
   ]
  },
  {
   "cell_type": "code",
   "execution_count": null,
   "metadata": {
    "collapsed": true
   },
   "outputs": [],
   "source": []
  }
 ],
 "metadata": {
  "kernelspec": {
   "display_name": "Python 3",
   "language": "python",
   "name": "python3"
  },
  "language_info": {
   "codemirror_mode": {
    "name": "ipython",
    "version": 3
   },
   "file_extension": ".py",
   "mimetype": "text/x-python",
   "name": "python",
   "nbconvert_exporter": "python",
   "pygments_lexer": "ipython3",
   "version": "3.6.1"
  }
 },
 "nbformat": 4,
 "nbformat_minor": 2
}
